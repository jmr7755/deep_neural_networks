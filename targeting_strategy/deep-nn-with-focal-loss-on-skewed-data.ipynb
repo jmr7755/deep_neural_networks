{
 "cells": [
  {
   "cell_type": "markdown",
   "metadata": {},
   "source": [
    "# <center>Deep NN</center>\n",
    "## <div align=right>Made by:</div>\n",
    "**<div align=right>Jereddy Manoj</div>**\n",
    "**<div align=right>Ihor Markevych</div>**\n",
    "**<div align=right>Jing Liu</div>**"
   ]
  },
  {
   "cell_type": "markdown",
   "metadata": {},
   "source": [
    "## Scenario\n",
    "A financial institution desires to refine its targeting strategy and grow the\n",
    "client population leveraging third party credit data.\n"
   ]
  },
  {
   "cell_type": "markdown",
   "metadata": {},
   "source": [
    "--------------------------"
   ]
  },
  {
   "cell_type": "code",
   "execution_count": 1,
   "metadata": {
    "scrolled": false
   },
   "outputs": [
    {
     "name": "stderr",
     "output_type": "stream",
     "text": [
      "Using TensorFlow backend.\n"
     ]
    }
   ],
   "source": [
    "import pandas as pd\n",
    "import numpy as np\n",
    "import pickle\n",
    "\n",
    "import tensorflow as tf\n",
    "\n",
    "import keras\n",
    "import keras.backend as K\n",
    "from keras.models import Model, Sequential\n",
    "from keras.layers import Dense, Dropout, Flatten, BatchNormalization\n",
    "\n",
    "from sklearn.model_selection import train_test_split\n",
    "import sklearn.preprocessing\n",
    "from sklearn.metrics import roc_curve, auc, accuracy_score\n",
    "from sklearn.metrics import f1_score, precision_score, recall_score, confusion_matrix\n",
    "import joblib\n",
    "\n",
    "import matplotlib.pyplot as plt\n",
    "\n",
    "# from imblearn.over_sampling import SMOTE\n",
    "\n",
    "np.random.seed(123)"
   ]
  },
  {
   "cell_type": "markdown",
   "metadata": {},
   "source": [
    "## Preprocessing"
   ]
  },
  {
   "cell_type": "code",
   "execution_count": 2,
   "metadata": {
    "_cell_guid": "79c7e3d0-c299-4dcb-8224-4455121ee9b0",
    "_uuid": "d629ff2d2480ee46fbb7e2d37f6b5fab8052498a",
    "scrolled": false
   },
   "outputs": [],
   "source": [
    "def preprocessing(X, scaler_filename='scaler.save', columns_to_use_filename='columns_to_use'):\n",
    "    \n",
    "    scaler = joblib.load(scaler_filename)\n",
    "    \n",
    "    with open (columns_to_use_filename, 'rb') as fp:\n",
    "        columns_to_use = pickle.load(fp)    \n",
    "    \n",
    "    X = X.loc[:, columns_to_use]\n",
    "    \n",
    "    numerical_X = X.loc[:, X.dtypes != 'object']\n",
    "    numerical_X = pd.DataFrame(scaler.transform(numerical_X), columns=numerical_X.columns)\n",
    "    numerical_X = numerical_X.fillna(0)\n",
    "    return numerical_X \n",
    "#     categorical_X = X.loc[:, X.dtypes == 'object']\n",
    "#     categorical_X_encoded = pd.get_dummies(categorical_X, dummy_na=True, prefix=categorical_X.columns)\n",
    "#     final_X = pd.concat([numerical_X, categorical_X_encoded], axis=1)\n",
    "    \n",
    "#     return final_X"
   ]
  },
  {
   "cell_type": "code",
   "execution_count": 3,
   "metadata": {
    "scrolled": false
   },
   "outputs": [
    {
     "name": "stderr",
     "output_type": "stream",
     "text": [
      "/opt/conda/lib/python3.6/site-packages/IPython/core/interactiveshell.py:3063: DtypeWarning: Columns (328,336) have mixed types. Specify dtype option on import or set low_memory=False.\n",
      "  interactivity=interactivity, compiler=compiler, result=result)\n"
     ]
    }
   ],
   "source": [
    "data = pd.read_csv('/kaggle/input/Data.csv')\n",
    "X = data.drop(columns='Flag')\n",
    "y = data.Flag\n",
    "\n",
    "columns_to_use = list(X.columns[(X.isna().sum() / len(X)) < 0.4])\n",
    "X = X.loc[:, columns_to_use]\n",
    "corrs = X.corrwith(y).abs().sort_values(ascending=False)\n",
    "# columns_to_use = [x for x in columns_to_use if x not in corrs[corrs < 0.01].index.tolist()]\n",
    "columns_to_use = corrs[corrs > 0.01].index.tolist()\n",
    "X = X.loc[:, columns_to_use]\n",
    "\n",
    "with open('columns_to_use', 'wb') as fp:\n",
    "    pickle.dump(columns_to_use, fp)\n",
    "\n",
    "scaler = sklearn.preprocessing.StandardScaler()\n",
    "scaler.fit(X.loc[:, X.dtypes != 'object'])\n",
    "joblib.dump(scaler, \"scaler.save\") \n",
    "\n",
    "X_preprocessed = preprocessing(X)\n",
    "\n",
    "X_train, X_test, y_train, y_test = train_test_split(X_preprocessed, y, stratify=y, test_size=0.1)\n",
    "# X_train, X_val, y_train, y_val = train_test_split(X_train, y_train, stratify=y_train, test_size=0.1)"
   ]
  },
  {
   "cell_type": "markdown",
   "metadata": {},
   "source": [
    "Columns used:"
   ]
  },
  {
   "cell_type": "code",
   "execution_count": 4,
   "metadata": {},
   "outputs": [
    {
     "name": "stdout",
     "output_type": "stream",
     "text": [
      "['BuiltHUMedHUAge', 'OldervsNewerBuiltHomesSco', 'EmployPopFem16InLbFrc', 'EducPop25HSDiploma', 'IndusEmpldFinanceInsur', 'EducPop25BachDegree', 'EducISPSADecile', 'EthnicPopAsian', 'IncFamilyIncStateDecile', 'AgePop3544', 'MortgOOHUOneMrtgOnly', 'IncFamilyIncStateIndex', 'EducISPSA', 'AVGBCCTRD', 'IncHHHHInc010K', 'EmplWageEarnvsOthersSco', 'IncHHHHInc100124K', 'IncHHMedHHInc', 'IncHHHHInc1014K', 'AVGTRD', 'TTSavvyresearchersHH', 'MoveOCCHUMedLenofRes', 'IncHHHHInc1519K', 'AVGTRDNVRDELDRG', 'HighvsLowAffluenceSco', 'AgePop6599', 'TTDigitalNewspaperHH', 'IncHHHHInc125149K', 'IncHHHHInc2024K', 'AVGREVTRD', 'CAPERetailDemand_20580', 'CreditSeekers', 'AVGINQ', 'AgePop7599', 'IncHHHHInc150199K', 'TTTrendsettersHH', 'EducPop25MedEducAttain', 'IncHHHHInc7599K', 'AVGAUTTRD', 'TTStreamingTVHH', 'AVGAUATRD', 'EstimatedIncomeAmountV6', 'TTMobileSMSMMSHH', 'CAPERetailDemand_441', 'AVGINQIN12M', 'AVGMTFTRD', 'IndusEmpldInformation', 'AVGMPMTOPENRP6', 'AVGRTAINQ', 'CAPERetailDemand_20700', 'NationalIncomePercentile', 'CAPERetailDemand_443', 'AVGEVER30', 'UrbanPopUrbanAreas', 'AVGRTATRD', 'IncHHHHInc2529K', 'CAPERetailDemand_20740', 'InstallmentorAutoTradesAmt', 'CAPERetailDemand_20360', 'AVGAMTOPENILNRP6', 'TTDealseekersHH', 'AVGOPENBCCWAMT5000RP6', 'AgePop1865', 'CAPERetailDemand_442', 'TTTraditionalNewspaperHH', 'CAPERetailDemand_20270', 'CAPERetailDemand_722', 'CAPERetailDemand_20730', 'RentRntlMedRent', 'AVGREVNVRDELDRG', 'CAPERetailDemand_21100', 'TypHHMarriedCoupleFam', 'CAPERetailDemand_20340', 'CAPERetailDemand_20440', 'CAPERetailDemand_20330', 'EducPop25SomeCollege', 'CAPERetailDemand_20300', 'BadVersusGoodCredit', 'CAPERetailDemand_20370', 'CAPERetailDemand_20320', 'CAPERetailDemand_20850', 'AVGAMTOPENAUARP6', 'OldervsYoungerAgeSco', 'CAPERetailDemand_453', 'AVGOPENILNRP6', 'CAPERetailDemand_21220', 'AVGMTATRD', 'AgePop4554', 'TypPopSpouseInFamHH', 'CAPERetailDemand_20420', 'CAPERetailDemand_20130', 'CAPERetailDemand_20460', 'IndusEmpldPublicAdmin', 'CAPERetailDemand_20240', 'AVGBCAINQ', 'EducPop25GradProfDeg', 'AVGSTUTRD', 'CAPERetailDemand_452', 'TimeZone', 'IndusEmpldHlthSocAsst', 'ChildHHwithPersLT18', 'ChildHHWithoutLT18', 'CAPERetailDemand_20260', 'CAPERetailDemand_446', 'CAPERetailDemand_20280', 'CAPERetailDemand_447', 'CAPERetailDemand_20720', 'AgePopMedAgePop18', 'CAPERetailDemand_20380', 'CAPERetailDemand_20490', 'AVGMTAINQIN6M', 'CAPERetailDemand_444', 'CAPERetailDemand_20620', 'CAPERetailDemand_20150', 'CAPERetailDemand_20600', 'CAPERetailDemand_20220', 'CAPERetailDemand_20160', 'CAPERetailDemand_20310', 'CAPERetailDemand_451', 'CAPERetailDemand_20200', 'TTBroadcastCableTVHH', 'RevolvingBankcardBalances', 'IncHHHHInc3539K', 'AVGAVAILAMTOPENBCCRP6', 'CAPERetailDemand_20190', 'CAPERetailDemand_20180', 'CAPERetailDemand_20800', 'CAPERetailDemand_20100', 'AVGMTSTRD', 'TTBrandloyalistsHH', 'AVGSTUNVRDELDRGINCDEF', 'CAPERetailDemand_20640', 'NumberofChildren18orLess', 'CountyIncomePercentile', 'ConsumerViewProfitabilityScr', 'AVGOPENRP6', 'CAPERetailDemand_454', 'CAPERetailDemand_20670', 'CAPERetailDemand_20780', 'IndusEmpldRealEstate', 'CAPERetailDemand_445', 'TTDigitalDisplayHH', 'CAPERetailDemand_448', 'StudentLoans', 'IncHHHHInc250499K', 'EthnicPopBlackHisp', 'AVGRTAINQIN6M', 'CAPERetailDemand_20530', 'AVGILNNVRDELDRG', 'ChildHHFHOHFamWLT18', 'AVGBALOPENBCARP6', 'AgePop5564', 'AVGAUAEVERDRG', 'IncHHHHInc200249K', 'IncHHHHInc500K', 'CAPERetailDemand_20140', 'AVGAMTOPENHLCRP6', 'AVGAMTONRCNTOPNDOPENBCCWAMT', 'TTQualitymattersHH', 'IncHHHHInc3034K', 'AVGMPMTOPENSTURP6', 'AVGOPENBCCOPN12M', 'CommuteWrkrsCarpooled', 'AVGBCAINQIN6M', 'CommuteCommuterAvgTime', 'AVGAMTOPENRTARP6', 'OpenRetailTradesCredit', 'AVGUTITRD', 'IndusEmpldWholesale', 'CAPERetailDemand_20400', 'IndusEmpldAccomFoodSvc', 'AVGBALOPENSTURP6', 'AVGFIPEVER60', 'AVGAUAEVER30', 'IndusEmpldTransandWhse', 'LengthofResidence', 'AVGMOSSINCEREVTRDOPND', 'IncHHHHInc6074K', 'AVGRTRNVRDELDRGIN24M', 'AgePop2534', 'NumberofAdultsinHousehold', 'AVGREVOPENREVRP6', 'TTOrganicandnaturalHH', 'AVGMTANVRDELDRG', 'AVGOPENBCCBTL50RP6', 'TTDirectMailHH', 'AgePop017', 'AfricanAmericanvsNonSco', 'TTRadioHH', 'IndusEmpldRetailTrade', 'EthnicPopBlack', 'FamHmOwnvsNonFamRentSco', 'TTDigitalVideoHH', 'AVGOPENAUAOPN12M', 'AVGMOSSINCEBCCTRDOPENED', 'HeatOCCHUUtilGasHeat', 'IndusEmpldAdminWaste', 'AVGOPENRTRWBALELDRGRP6', 'CountPopulationPop', 'AVGMOSOLDESTILNTRD', 'IncHHHHInc4549K', 'TypPopInFamHH', 'TTInthemomentshoppersHH', 'AVGMOSOLDESTMTATRD', 'ShortTermDelinquencies', 'AgePop024', 'IncHHHHInc4044K', 'RecentlyOpenedMortgage', 'CountHouseholdsHH', 'AVGBALOPENMTARP6', 'TenancyOCCHUOwnerOccup', 'AVGMOSRCNTMTAINQNODEDUPE', 'HispanicvsNonHispanicSco', 'StateEstimatedIncomeIndex', 'EthnicPopHispanic']\n"
     ]
    }
   ],
   "source": [
    "print(columns_to_use)"
   ]
  },
  {
   "cell_type": "markdown",
   "metadata": {},
   "source": [
    "## EDA"
   ]
  },
  {
   "cell_type": "code",
   "execution_count": 5,
   "metadata": {
    "scrolled": true
   },
   "outputs": [
    {
     "name": "stdout",
     "output_type": "stream",
     "text": [
      "Number of samples: 39508.\n"
     ]
    }
   ],
   "source": [
    "print(f'Number of samples: {len(X)}.')"
   ]
  },
  {
   "cell_type": "code",
   "execution_count": 6,
   "metadata": {
    "scrolled": true
   },
   "outputs": [
    {
     "data": {
      "text/plain": [
       "0    0.896224\n",
       "1    0.103776\n",
       "Name: Flag, dtype: float64"
      ]
     },
     "execution_count": 6,
     "metadata": {},
     "output_type": "execute_result"
    }
   ],
   "source": [
    "y.value_counts(normalize=True)"
   ]
  },
  {
   "cell_type": "markdown",
   "metadata": {},
   "source": [
    "We can see quite strong disbalance in classes. We will need to account that in our model."
   ]
  },
  {
   "cell_type": "code",
   "execution_count": 7,
   "metadata": {
    "scrolled": true
   },
   "outputs": [
    {
     "data": {
      "text/plain": [
       "False"
      ]
     },
     "execution_count": 7,
     "metadata": {},
     "output_type": "execute_result"
    }
   ],
   "source": [
    "y.isna().any()"
   ]
  },
  {
   "cell_type": "markdown",
   "metadata": {},
   "source": [
    "We can also see that our target does not have any missing values."
   ]
  },
  {
   "cell_type": "code",
   "execution_count": 8,
   "metadata": {
    "scrolled": true
   },
   "outputs": [
    {
     "data": {
      "text/plain": [
       "TTQualitymattersHH           0.022502\n",
       "TTBrandloyalistsHH           0.022502\n",
       "TTDealseekersHH              0.022502\n",
       "TTInthemomentshoppersHH      0.022502\n",
       "TTOrganicandnaturalHH        0.022502\n",
       "                               ...   \n",
       "TTMobileSMSMMSHH             0.072061\n",
       "TTTraditionalNewspaperHH     0.072061\n",
       "NumberofAdultsinHousehold    0.328414\n",
       "LengthofResidence            0.328414\n",
       "NumberofChildren18orLess     0.328414\n",
       "Length: 215, dtype: float64"
      ]
     },
     "execution_count": 8,
     "metadata": {},
     "output_type": "execute_result"
    }
   ],
   "source": [
    "(X.isna().sum() / X.shape[0]).sort_values()"
   ]
  },
  {
   "cell_type": "code",
   "execution_count": 9,
   "metadata": {
    "scrolled": true
   },
   "outputs": [
    {
     "data": {
      "text/plain": [
       "0        0.0\n",
       "26393    0.0\n",
       "26392    0.0\n",
       "26391    0.0\n",
       "26390    0.0\n",
       "        ... \n",
       "9629     1.0\n",
       "17097    1.0\n",
       "4075     1.0\n",
       "5928     1.0\n",
       "11009    1.0\n",
       "Length: 39508, dtype: float64"
      ]
     },
     "execution_count": 9,
     "metadata": {},
     "output_type": "execute_result"
    }
   ],
   "source": [
    "X.isna().sum(axis=1).sort_values() / X.shape[1]"
   ]
  },
  {
   "cell_type": "markdown",
   "metadata": {},
   "source": [
    "We see that some columns have a lot of missing values.  \n",
    "Also some rows have missing values (up to all of the values)."
   ]
  },
  {
   "cell_type": "markdown",
   "metadata": {},
   "source": [
    "Correlations:"
   ]
  },
  {
   "cell_type": "code",
   "execution_count": 10,
   "metadata": {},
   "outputs": [
    {
     "data": {
      "text/plain": [
       "BuiltHUMedHUAge              0.100445\n",
       "OldervsNewerBuiltHomesSco    0.097691\n",
       "EmployPopFem16InLbFrc        0.094995\n",
       "EducPop25HSDiploma           0.094705\n",
       "IndusEmpldFinanceInsur       0.091826\n",
       "                               ...   \n",
       "TTNoveltyseekersHH           0.009530\n",
       "EthnicPopWhite               0.009360\n",
       "LangHHSpanish                0.009237\n",
       "AVGHLCEVER30IN24M            0.008435\n",
       "EthnicPopWhiteHisp           0.006758\n",
       "Length: 223, dtype: float64"
      ]
     },
     "execution_count": 10,
     "metadata": {},
     "output_type": "execute_result"
    }
   ],
   "source": [
    "corrs"
   ]
  },
  {
   "cell_type": "markdown",
   "metadata": {},
   "source": [
    "Correlation is going from quite high values of 0.1 to very small rates of 0.06."
   ]
  },
  {
   "cell_type": "markdown",
   "metadata": {},
   "source": [
    "Number of features (before preprocessing):"
   ]
  },
  {
   "cell_type": "code",
   "execution_count": 11,
   "metadata": {},
   "outputs": [
    {
     "data": {
      "text/plain": [
       "388"
      ]
     },
     "execution_count": 11,
     "metadata": {},
     "output_type": "execute_result"
    }
   ],
   "source": [
    "data.shape[1] - 1"
   ]
  },
  {
   "cell_type": "markdown",
   "metadata": {},
   "source": [
    "Number of features (after preprocessing):"
   ]
  },
  {
   "cell_type": "code",
   "execution_count": 12,
   "metadata": {},
   "outputs": [
    {
     "data": {
      "text/plain": [
       "215"
      ]
     },
     "execution_count": 12,
     "metadata": {},
     "output_type": "execute_result"
    }
   ],
   "source": [
    "X_preprocessed.shape[1]"
   ]
  },
  {
   "cell_type": "markdown",
   "metadata": {},
   "source": [
    "## Focal loss"
   ]
  },
  {
   "cell_type": "markdown",
   "metadata": {},
   "source": [
    "We will use weighted focal loss to account class disbalance problem.  \n",
    "https://arxiv.org/pdf/1708.02002.pdf  \n",
    "$$Loss(p_t) = \\alpha _t* (1 - p_t) ^ \\gamma * log(p_t),$$ where $p_t$ is predicted probability of sample to belong to certain class."
   ]
  },
  {
   "cell_type": "code",
   "execution_count": 13,
   "metadata": {
    "scrolled": false
   },
   "outputs": [],
   "source": [
    "from tensorflow.keras import backend as K\n",
    "\n",
    "def focal_loss(gamma=2, alpha=0.89):\n",
    "    def focal_loss_fixed(y_true, y_pred):\n",
    "        pt_1 = tf.where(tf.equal(y_true, 1), y_pred, tf.ones_like(y_pred))\n",
    "        pt_0 = tf.where(tf.equal(y_true, 0), y_pred, tf.zeros_like(y_pred))\n",
    "        return -K.mean(alpha * K.pow(1. - pt_1, gamma) * K.log(pt_1)\n",
    "                 + (1 - alpha) * K.pow(pt_0, gamma) * K.log(1. - pt_0))\n",
    "    return focal_loss_fixed"
   ]
  },
  {
   "cell_type": "markdown",
   "metadata": {},
   "source": [
    "## Hyperparameters"
   ]
  },
  {
   "cell_type": "code",
   "execution_count": 14,
   "metadata": {
    "scrolled": false
   },
   "outputs": [],
   "source": [
    "OPTIMIZER = keras.optimizers.Adam(learning_rate=0.01, clipvalue=5)\n",
    "EPOCHS = 50\n",
    "BATCH_SIZE = 256\n",
    "\n",
    "es = tf.keras.callbacks.EarlyStopping(monitor='val_loss', mode='min', verbose=1, patience=5, restore_best_weights=True)"
   ]
  },
  {
   "cell_type": "code",
   "execution_count": 15,
   "metadata": {
    "scrolled": true
   },
   "outputs": [],
   "source": [
    "alpha = y.value_counts(normalize=True)[0] # 0.89\n",
    "gamma = 0.5"
   ]
  },
  {
   "cell_type": "markdown",
   "metadata": {},
   "source": [
    "## Model"
   ]
  },
  {
   "cell_type": "code",
   "execution_count": 16,
   "metadata": {
    "scrolled": false
   },
   "outputs": [],
   "source": [
    "import time\n",
    "\n",
    "def create_model(gamma=gamma, alpha=alpha, seed=None):\n",
    "    \n",
    "    if seed is not None:\n",
    "        np.random.seed(seed)\n",
    "    else:\n",
    "        t = int(time.time())\n",
    "        print(f'Seed: {t}.')\n",
    "        np.random.seed(t)\n",
    "\n",
    "    model = Sequential()\n",
    "\n",
    "    model.add(Dense(128, activation='relu', input_dim=X_train.shape[1]))\n",
    "    model.add(BatchNormalization())\n",
    "    model.add(Dropout(0.3))\n",
    "\n",
    "    model.add(Dense(64, activation='relu'))\n",
    "    model.add(BatchNormalization())\n",
    "    model.add(Dropout(0.3))\n",
    "\n",
    "    model.add(Dense(32, activation='relu'))\n",
    "    model.add(BatchNormalization())\n",
    "    model.add(Dropout(0.2))\n",
    "\n",
    "    model.add(Dense(16, activation='relu'))\n",
    "    model.add(BatchNormalization())\n",
    "    model.add(Dropout(0.5))\n",
    "\n",
    "    model.add(Dense(8, activation='relu'))\n",
    "    model.add(BatchNormalization())\n",
    "    model.add(Dropout(0.2))\n",
    "    \n",
    "    model.add(Dense(4, activation='relu'))\n",
    "    model.add(BatchNormalization())\n",
    "    model.add(Dropout(0.4))\n",
    "\n",
    "    model.add(Dense(1, activation='sigmoid', \n",
    "                    name='prediction', \n",
    "                    bias_initializer=keras.initializers.Constant(np.log(9))))\n",
    "\n",
    "    model.compile(loss=focal_loss(gamma, alpha), optimizer=OPTIMIZER, metrics=[\"accuracy\"])\n",
    "\n",
    "    return model"
   ]
  },
  {
   "cell_type": "code",
   "execution_count": 17,
   "metadata": {
    "scrolled": true
   },
   "outputs": [],
   "source": [
    "def evaluate(model, X_val, y_val):\n",
    "    y_pred = model.predict_classes(X_val).ravel()\n",
    "    f1 = f1_score(y_val, y_pred , average=\"macro\")\n",
    "    fpr, tpr, thresholds = roc_curve(y_val, y_pred)\n",
    "    auc_model = auc(fpr, tpr)\n",
    "    conf = pd.DataFrame(confusion_matrix(y_val, y_pred), columns=['pred_0', 'pred_1'], index=['true_0', 'true_1'])\n",
    "    prec = precision_score(y_val, y_pred)\n",
    "    recall = recall_score(y_val, y_pred)\n",
    "    acc = accuracy_score(y_val, y_pred)\n",
    "    \n",
    "    return {'auc': auc_model, \n",
    "            'f1':f1, \n",
    "            'confusion':conf, \n",
    "            'precision': prec,\n",
    "            'recall': recall,\n",
    "            'accuracy': acc,\n",
    "            'roc_cache': (fpr, tpr)}"
   ]
  },
  {
   "cell_type": "code",
   "execution_count": 18,
   "metadata": {
    "scrolled": true
   },
   "outputs": [],
   "source": [
    "def train_and_evaluate_model(model, X_train, y_train, X_val, y_val, epochs=EPOCHS):\n",
    "            \n",
    "    history = model.fit(X_train.values, y_train,\n",
    "                        batch_size=BATCH_SIZE, \n",
    "                        epochs=epochs, \n",
    "                        validation_split=0.1,\n",
    "                        use_multiprocessing=True,\n",
    "                        verbose=0,\n",
    "                        callbacks=[es]\n",
    "                       )\n",
    "    \n",
    "    return {'model': model,\n",
    "            'history':history, \n",
    "            'eval': evaluate(model, X_val, y_val)}"
   ]
  },
  {
   "cell_type": "markdown",
   "metadata": {},
   "source": [
    "## Validation with Stratified K-Fold"
   ]
  },
  {
   "cell_type": "code",
   "execution_count": 19,
   "metadata": {
    "scrolled": true
   },
   "outputs": [
    {
     "name": "stdout",
     "output_type": "stream",
     "text": [
      "Running Fold 1 / 10\n",
      "Restoring model weights from the end of the best epoch.\n",
      "Epoch 00021: early stopping\n",
      "Running Fold 2 / 10\n",
      "Restoring model weights from the end of the best epoch.\n",
      "Epoch 00027: early stopping\n",
      "Running Fold 3 / 10\n",
      "Restoring model weights from the end of the best epoch.\n",
      "Epoch 00020: early stopping\n",
      "Running Fold 4 / 10\n",
      "Restoring model weights from the end of the best epoch.\n",
      "Epoch 00011: early stopping\n",
      "Running Fold 5 / 10\n",
      "Restoring model weights from the end of the best epoch.\n",
      "Epoch 00015: early stopping\n",
      "Running Fold 6 / 10\n",
      "Restoring model weights from the end of the best epoch.\n",
      "Epoch 00016: early stopping\n",
      "Running Fold 7 / 10\n",
      "Restoring model weights from the end of the best epoch.\n",
      "Epoch 00023: early stopping\n",
      "Running Fold 8 / 10\n",
      "Restoring model weights from the end of the best epoch.\n",
      "Epoch 00028: early stopping\n",
      "Running Fold 9 / 10\n",
      "Restoring model weights from the end of the best epoch.\n",
      "Epoch 00023: early stopping\n",
      "Running Fold 10 / 10\n",
      "Restoring model weights from the end of the best epoch.\n",
      "Epoch 00021: early stopping\n"
     ]
    }
   ],
   "source": [
    "from sklearn.model_selection import StratifiedKFold\n",
    "\n",
    "n_folds = 10\n",
    "\n",
    "skf = StratifiedKFold(n_splits=n_folds, shuffle=True)\n",
    "\n",
    "h = []\n",
    "\n",
    "for i, (train, test) in enumerate(skf.split(X_train, y_train)):\n",
    "    print(\"Running Fold\", i + 1, \"/\", n_folds)\n",
    "    model = None # Clearing the NN.\n",
    "    model = create_model(seed=1587411287)\n",
    "    h.append(train_and_evaluate_model(model,\n",
    "                                      X_train.iloc[train], y_train.iloc[train], \n",
    "                                      X_train.iloc[test], y_train.iloc[test]))"
   ]
  },
  {
   "cell_type": "code",
   "execution_count": 20,
   "metadata": {
    "scrolled": true
   },
   "outputs": [
    {
     "data": {
      "text/plain": [
       "0.6455385944838692"
      ]
     },
     "execution_count": 20,
     "metadata": {},
     "output_type": "execute_result"
    }
   ],
   "source": [
    "np.mean([e['eval']['auc'] for e in h])"
   ]
  },
  {
   "cell_type": "markdown",
   "metadata": {},
   "source": [
    "## Final model"
   ]
  },
  {
   "cell_type": "code",
   "execution_count": 21,
   "metadata": {
    "scrolled": true
   },
   "outputs": [
    {
     "name": "stdout",
     "output_type": "stream",
     "text": [
      "Model: \"sequential_11\"\n",
      "_________________________________________________________________\n",
      "Layer (type)                 Output Shape              Param #   \n",
      "=================================================================\n",
      "dense_61 (Dense)             (None, 128)               27648     \n",
      "_________________________________________________________________\n",
      "batch_normalization_61 (Batc (None, 128)               512       \n",
      "_________________________________________________________________\n",
      "dropout_61 (Dropout)         (None, 128)               0         \n",
      "_________________________________________________________________\n",
      "dense_62 (Dense)             (None, 64)                8256      \n",
      "_________________________________________________________________\n",
      "batch_normalization_62 (Batc (None, 64)                256       \n",
      "_________________________________________________________________\n",
      "dropout_62 (Dropout)         (None, 64)                0         \n",
      "_________________________________________________________________\n",
      "dense_63 (Dense)             (None, 32)                2080      \n",
      "_________________________________________________________________\n",
      "batch_normalization_63 (Batc (None, 32)                128       \n",
      "_________________________________________________________________\n",
      "dropout_63 (Dropout)         (None, 32)                0         \n",
      "_________________________________________________________________\n",
      "dense_64 (Dense)             (None, 16)                528       \n",
      "_________________________________________________________________\n",
      "batch_normalization_64 (Batc (None, 16)                64        \n",
      "_________________________________________________________________\n",
      "dropout_64 (Dropout)         (None, 16)                0         \n",
      "_________________________________________________________________\n",
      "dense_65 (Dense)             (None, 8)                 136       \n",
      "_________________________________________________________________\n",
      "batch_normalization_65 (Batc (None, 8)                 32        \n",
      "_________________________________________________________________\n",
      "dropout_65 (Dropout)         (None, 8)                 0         \n",
      "_________________________________________________________________\n",
      "dense_66 (Dense)             (None, 4)                 36        \n",
      "_________________________________________________________________\n",
      "batch_normalization_66 (Batc (None, 4)                 16        \n",
      "_________________________________________________________________\n",
      "dropout_66 (Dropout)         (None, 4)                 0         \n",
      "_________________________________________________________________\n",
      "prediction (Dense)           (None, 1)                 5         \n",
      "=================================================================\n",
      "Total params: 39,697\n",
      "Trainable params: 39,193\n",
      "Non-trainable params: 504\n",
      "_________________________________________________________________\n"
     ]
    }
   ],
   "source": [
    "model = None\n",
    "model = create_model(seed=1587411287)\n",
    "model.summary()"
   ]
  },
  {
   "cell_type": "markdown",
   "metadata": {},
   "source": [
    "### Training"
   ]
  },
  {
   "cell_type": "code",
   "execution_count": 22,
   "metadata": {
    "scrolled": true
   },
   "outputs": [
    {
     "name": "stdout",
     "output_type": "stream",
     "text": [
      "Restoring model weights from the end of the best epoch.\n",
      "Epoch 00021: early stopping\n"
     ]
    }
   ],
   "source": [
    "history = train_and_evaluate_model(model, X_train, y_train, X_test, y_test)"
   ]
  },
  {
   "cell_type": "markdown",
   "metadata": {},
   "source": [
    "### Evaluation"
   ]
  },
  {
   "cell_type": "markdown",
   "metadata": {},
   "source": [
    "#### Train performance"
   ]
  },
  {
   "cell_type": "code",
   "execution_count": 23,
   "metadata": {
    "scrolled": true
   },
   "outputs": [
    {
     "data": {
      "text/plain": [
       "{'auc': 0.6788653603735648,\n",
       " 'f1': 0.503876021929762,\n",
       " 'confusion':         pred_0  pred_1\n",
       " true_0   18395   13472\n",
       " true_1     810    2880,\n",
       " 'precision': 0.1761252446183953,\n",
       " 'recall': 0.7804878048780488,\n",
       " 'accuracy': 0.5983350676378772,\n",
       " 'roc_cache': (array([0.        , 0.42275708, 1.        ]),\n",
       "  array([0.       , 0.7804878, 1.       ]))}"
      ]
     },
     "execution_count": 23,
     "metadata": {},
     "output_type": "execute_result"
    }
   ],
   "source": [
    "evaluate(model, X_train, y_train)"
   ]
  },
  {
   "cell_type": "markdown",
   "metadata": {},
   "source": [
    "#### Test performance"
   ]
  },
  {
   "cell_type": "code",
   "execution_count": 24,
   "metadata": {
    "scrolled": true
   },
   "outputs": [
    {
     "data": {
      "text/plain": [
       "{'auc': 0.6353327914809789,\n",
       " 'f1': 0.4869564579300065,\n",
       " 'confusion':         pred_0  pred_1\n",
       " true_0    2038    1503\n",
       " true_1     125     285,\n",
       " 'precision': 0.1593959731543624,\n",
       " 'recall': 0.6951219512195121,\n",
       " 'accuracy': 0.5879524171095926,\n",
       " 'roc_cache': (array([0.        , 0.42445637, 1.        ]),\n",
       "  array([0.        , 0.69512195, 1.        ]))}"
      ]
     },
     "execution_count": 24,
     "metadata": {},
     "output_type": "execute_result"
    }
   ],
   "source": [
    "history['eval']"
   ]
  },
  {
   "cell_type": "markdown",
   "metadata": {},
   "source": [
    "#### Learning curves"
   ]
  },
  {
   "cell_type": "code",
   "execution_count": 25,
   "metadata": {
    "scrolled": true
   },
   "outputs": [
    {
     "data": {
      "image/png": "[encoded data removed]",
      "text/plain": [
       "<Figure size 432x288 with 1 Axes>"
      ]
     },
     "metadata": {
      "needs_background": "light"
     },
     "output_type": "display_data"
    }
   ],
   "source": [
    "plt.title('Loss')\n",
    "plt.plot(history['history'].history['loss'])\n",
    "plt.plot(history['history'].history['val_loss'])\n",
    "plt.title('model loss')\n",
    "plt.ylabel('loss')\n",
    "plt.xlabel('epoch')\n",
    "plt.legend(['train', 'validation'], loc='upper left')\n",
    "plt.show()"
   ]
  },
  {
   "cell_type": "markdown",
   "metadata": {},
   "source": [
    "#### ROC curve"
   ]
  },
  {
   "cell_type": "code",
   "execution_count": 26,
   "metadata": {
    "scrolled": true
   },
   "outputs": [
    {
     "data": {
      "image/png": "[encoded data removed]",
      "text/plain": [
       "<Figure size 432x288 with 1 Axes>"
      ]
     },
     "metadata": {
      "needs_background": "light"
     },
     "output_type": "display_data"
    }
   ],
   "source": [
    "fpr, tpr = history['eval']['roc_cache']\n",
    "plt.plot(fpr, tpr, color='darkorange', label=f\"ROC curve (area = {round(history['eval']['auc'], 3)})\")\n",
    "plt.plot([0, 1], [0, 1], color='navy', lw=2, linestyle='--')\n",
    "plt.xlim([0.0, 1.0])\n",
    "plt.ylim([0.0, 1.05])\n",
    "plt.xlabel('False Positive Rate')\n",
    "plt.ylabel('True Positive Rate')\n",
    "plt.title('Receiver operating characteristic')\n",
    "plt.legend(loc=\"lower right\")\n",
    "plt.show()"
   ]
  },
  {
   "cell_type": "markdown",
   "metadata": {},
   "source": [
    "## Saving the model"
   ]
  },
  {
   "cell_type": "code",
   "execution_count": 27,
   "metadata": {
    "scrolled": false
   },
   "outputs": [],
   "source": [
    "model_json = model.to_json()\n",
    "with open(\"model.json\", \"w\") as json_file:\n",
    "    json_file.write(model_json)\n",
    "# serialize weights to HDF5\n",
    "model.save_weights(\"model.h5\")"
   ]
  },
  {
   "cell_type": "markdown",
   "metadata": {},
   "source": [
    "## Assumptions, limitations, conclusion"
   ]
  },
  {
   "cell_type": "markdown",
   "metadata": {},
   "source": [
    "### Assumptions:\n",
    "* Main assumption is that stakeholder will prefer to have more false positives (e.g. sending advertisement to people that most likely won't become a customer) than to have false negatives (missing potential customers).\n",
    "* Therefore, ROC-AUC was selected as a single performance evaluation metric (for ease of comparison between different models)."
   ]
  },
  {
   "cell_type": "markdown",
   "metadata": {},
   "source": [
    "### Limitations:\n",
    "Main limitation is lack of proper estimate of Bayess Classifier performance. For instance, for tasks like image classification Bayess Classifier error is usually assumed to be zero, as human performance is around 0% error. However, for task like this it's hard to estimate optimal performance, therefore we can't conclude whether our model is too simple (has removable bias), or we are already performing at best possible rate.  \n",
    "  \n",
    "Another limiting factor is small number of samples with 1 target. It may be possible to significantly increase model performance by having more data for class 1."
   ]
  },
  {
   "cell_type": "markdown",
   "metadata": {},
   "source": [
    "### Conclusion:\n",
    "  \n",
    "Focal loss allows to train model on skewed data without data augumentation or downsampling.  \n",
    "* $\\alpha$ was set to be equal inverse normalized frequency of appearing of this class in data. This can be taken as starting default value that can be tuned later with cross-validation. However, in our case this value appeared to be optimal or close to optimal.  \n",
    "* $\\gamma$ was tuned using validation set.\n",
    "  \n",
    "Focal loss gave better performance than using SMOTE to oversample rare class, or than using downsamlping or combinations of above. It also gave better results than simply using weights to account skewed target.  \n",
    "Setting bias of the final layer to $log(\\frac{1 - \\pi}{\\pi})$, where $\\pi$ is normalized frequency of rare class ensure faster convergence and numerical stability. With SMOTEd and downsampled data local optimas of predicting all 0s were a significant problem.  \n",
    "Tweaking $\\gamma$ parameter can lead to either more correctly classified 0 classes, or to more correctly classified 1 classes."
   ]
  },
  {
   "cell_type": "markdown",
   "metadata": {},
   "source": [
    "### What else was tried:\n",
    "* SMOTE, \n",
    "* downsampling, \n",
    "* ensemble, \n",
    "* two stage training (SMOTEd data at stage 1 + downsampled data at stage 2)."
   ]
  },
  {
   "cell_type": "markdown",
   "metadata": {
    "scrolled": true
   },
   "source": [
    "## References:\n",
    "\n",
    "1. https://arxiv.org/pdf/1804.07612.pdf\n",
    "1. https://www.kaggle.com/abazdyrev/keras-nn-focal-loss-experiments"
   ]
  }
 ],
 "metadata": {
  "kernelspec": {
   "display_name": "Python 3",
   "language": "python",
   "name": "python3"
  },
  "language_info": {
   "codemirror_mode": {
    "name": "ipython",
    "version": 3
   },
   "file_extension": ".py",
   "mimetype": "text/x-python",
   "name": "python",
   "nbconvert_exporter": "python",
   "pygments_lexer": "ipython3",
   "version": "3.7.7"
  }
 },
 "nbformat": 4,
 "nbformat_minor": 4
}
