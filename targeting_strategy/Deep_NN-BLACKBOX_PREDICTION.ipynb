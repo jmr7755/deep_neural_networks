{
 "cells": [
  {
   "cell_type": "markdown",
   "metadata": {},
   "source": [
    "# <center>Deep NN</center>\n",
    "## <div align=right>Made by:</div>\n",
    "**<div align=right>Manoj Jereddy</div>**\n",
    "**<div align=right>Jing Liu</div>**\n",
    "**<div align=right>Ihor</div>**"
   ]
  },
  {
   "cell_type": "code",
   "execution_count": 1,
   "metadata": {},
   "outputs": [
    {
     "name": "stderr",
     "output_type": "stream",
     "text": [
      "Using TensorFlow backend.\n"
     ]
    }
   ],
   "source": [
    "import pandas as pd\n",
    "import pickle\n",
    "\n",
    "import keras\n",
    "\n",
    "from sklearn.metrics import roc_curve, auc, accuracy_score\n",
    "from sklearn.metrics import f1_score, precision_score, recall_score, confusion_matrix\n",
    "import joblib\n",
    "\n",
    "import matplotlib.pyplot as plt"
   ]
  },
  {
   "cell_type": "code",
   "execution_count": 2,
   "metadata": {},
   "outputs": [],
   "source": [
    "def preprocessing(X, scaler_filename='scaler.save', columns_to_use_filename='columns_to_use'):\n",
    "    \n",
    "    scaler = joblib.load(scaler_filename)\n",
    "    \n",
    "    with open (columns_to_use_filename, 'rb') as fp:\n",
    "        columns_to_use = pickle.load(fp)    \n",
    "    \n",
    "    X = X.loc[:, columns_to_use]\n",
    "    \n",
    "    numerical_X = X.loc[:, X.dtypes != 'object']\n",
    "    numerical_X = pd.DataFrame(scaler.transform(numerical_X), columns=numerical_X.columns)\n",
    "    numerical_X = numerical_X.fillna(0)\n",
    "    return numerical_X "
   ]
  },
  {
   "cell_type": "code",
   "execution_count": 3,
   "metadata": {},
   "outputs": [],
   "source": [
    "def evaluate(model, X_val, y_val):\n",
    "    y_pred = model.predict_classes(X_val).ravel()\n",
    "    f1 = f1_score(y_val, y_pred , average=\"macro\")\n",
    "    fpr, tpr, thresholds = roc_curve(y_val, y_pred)\n",
    "    auc_model = auc(fpr, tpr)\n",
    "    conf = pd.DataFrame(confusion_matrix(y_val, y_pred), columns=['pred_0', 'pred_1'], index=['true_0', 'true_1'])\n",
    "    prec = precision_score(y_val, y_pred)\n",
    "    recall = recall_score(y_val, y_pred)\n",
    "    acc = accuracy_score(y_val, y_pred)\n",
    "    \n",
    "    return {'auc': auc_model, \n",
    "            'f1':f1, \n",
    "            'confusion':conf, \n",
    "            'precision': prec,\n",
    "            'recall': recall,\n",
    "            'accuracy': acc,\n",
    "            'roc_cache': (fpr, tpr)}"
   ]
  },
  {
   "cell_type": "markdown",
   "metadata": {},
   "source": [
    "### Prediction and evaluation function"
   ]
  },
  {
   "cell_type": "code",
   "execution_count": 4,
   "metadata": {},
   "outputs": [],
   "source": [
    "def predict_and_evaluate(filename, model_file='model.json', weights_file='model.h5'):\n",
    "    data = pd.read_csv(filename)\n",
    "    X = data.drop(columns='Flag')\n",
    "    y = data.Flag\n",
    "    X_preprocessed = preprocessing(X)\n",
    "    \n",
    "    with open(model_file, 'r') as json_file:\n",
    "        loaded_model_json = json_file.read()\n",
    "\n",
    "    model = keras.models.model_from_json(loaded_model_json)\n",
    "    model.load_weights(weights_file)\n",
    "    \n",
    "    return evaluate(model, X_preprocessed, y), model.predict_classes(X_preprocessed)"
   ]
  },
  {
   "cell_type": "markdown",
   "metadata": {},
   "source": [
    "#### Launch here:"
   ]
  },
  {
   "cell_type": "markdown",
   "metadata": {},
   "source": [
    "`history` will contain various metrics.  \n",
    "`y_pred` will contain actual predictions."
   ]
  },
  {
   "cell_type": "code",
   "execution_count": 5,
   "metadata": {},
   "outputs": [
    {
     "name": "stderr",
     "output_type": "stream",
     "text": [
      "C:\\Users\\Dergel\\Anaconda3\\lib\\site-packages\\IPython\\core\\interactiveshell.py:3254: DtypeWarning: Columns (328,336) have mixed types. Specify dtype option on import or set low_memory=False.\n",
      "  if (await self.run_code(code, result,  async_=asy)):\n",
      "C:\\Users\\Dergel\\Anaconda3\\lib\\site-packages\\sklearn\\base.py:318: UserWarning: Trying to unpickle estimator StandardScaler from version 0.22.2.post1 when using version 0.22.1. This might lead to breaking code or invalid results. Use at your own risk.\n",
      "  UserWarning)\n"
     ]
    }
   ],
   "source": [
    "history, y_pred = predict_and_evaluate('Data.csv')"
   ]
  },
  {
   "cell_type": "code",
   "execution_count": 6,
   "metadata": {},
   "outputs": [
    {
     "data": {
      "text/plain": [
       "{'auc': 0.6745120986851532,\n",
       " 'f1': 0.5021991319161101,\n",
       " 'confusion':         pred_0  pred_1\n",
       " true_0   20433   14975\n",
       " true_1     935    3165,\n",
       " 'precision': 0.17447629547960308,\n",
       " 'recall': 0.7719512195121951,\n",
       " 'accuracy': 0.5972967500253114,\n",
       " 'roc_cache': (array([0.        , 0.42292702, 1.        ]),\n",
       "  array([0.        , 0.77195122, 1.        ]))}"
      ]
     },
     "execution_count": 6,
     "metadata": {},
     "output_type": "execute_result"
    }
   ],
   "source": [
    "history"
   ]
  },
  {
   "cell_type": "code",
   "execution_count": 7,
   "metadata": {},
   "outputs": [
    {
     "data": {
      "image/png": "[encoded data removed]",
      "text/plain": [
       "<Figure size 432x288 with 1 Axes>"
      ]
     },
     "metadata": {
      "needs_background": "light"
     },
     "output_type": "display_data"
    }
   ],
   "source": [
    "fpr, tpr = history['roc_cache']\n",
    "plt.plot(fpr, tpr, color='darkorange', label=f\"ROC curve (area = {round(history['auc'], 3)})\")\n",
    "plt.plot([0, 1], [0, 1], color='navy', lw=2, linestyle='--')\n",
    "plt.xlim([0.0, 1.0])\n",
    "plt.ylim([0.0, 1.05])\n",
    "plt.xlabel('False Positive Rate')\n",
    "plt.ylabel('True Positive Rate')\n",
    "plt.title('Receiver operating characteristic')\n",
    "plt.legend(loc=\"lower right\")\n",
    "plt.show()"
   ]
  },
  {
   "cell_type": "code",
   "execution_count": 8,
   "metadata": {},
   "outputs": [
    {
     "data": {
      "text/plain": [
       "array([[0],\n",
       "       [1],\n",
       "       [0],\n",
       "       ...,\n",
       "       [1],\n",
       "       [0],\n",
       "       [0]])"
      ]
     },
     "execution_count": 8,
     "metadata": {},
     "output_type": "execute_result"
    }
   ],
   "source": [
    "y_pred"
   ]
  },
  {
   "cell_type": "code",
   "execution_count": null,
   "metadata": {},
   "outputs": [],
   "source": []
  }
 ],
 "metadata": {
  "kernelspec": {
   "display_name": "Python 3",
   "language": "python",
   "name": "python3"
  },
  "language_info": {
   "codemirror_mode": {
    "name": "ipython",
    "version": 3
   },
   "file_extension": ".py",
   "mimetype": "text/x-python",
   "name": "python",
   "nbconvert_exporter": "python",
   "pygments_lexer": "ipython3",
   "version": "3.7.3"
  }
 },
 "nbformat": 4,
 "nbformat_minor": 4
}
